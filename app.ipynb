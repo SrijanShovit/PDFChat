{
 "cells": [
  {
   "cell_type": "code",
   "execution_count": 1,
   "metadata": {},
   "outputs": [
    {
     "name": "stdout",
     "output_type": "stream",
     "text": [
      "Collecting pypdf\n",
      "  Using cached pypdf-4.0.1-py3-none-any.whl.metadata (7.4 kB)\n",
      "Using cached pypdf-4.0.1-py3-none-any.whl (283 kB)\n",
      "Installing collected packages: pypdf\n",
      "Successfully installed pypdf-4.0.1\n",
      "Note: you may need to restart the kernel to use updated packages.\n"
     ]
    }
   ],
   "source": [
    "%pip install pypdf"
   ]
  },
  {
   "cell_type": "code",
   "execution_count": 76,
   "metadata": {},
   "outputs": [
    {
     "data": {
      "text/plain": [
       "[Document(page_content='Page 1 of 4 PDF Files \\nScan – Create – Reduce File Size  \\n \\n \\nIt is recommended that you purchase an Adobe Acrobat product that \\nallows you to read, create and manipulate PDF documents.  Go to http://www.adobe.com/products/acrobat/matrix.html\\n to compare \\nAdobe products and features –Adobe  Acrobat Standard is sufficient. \\n \\n \\nScanning Documents \\n \\nYou should only have to scan docu ments that are not electronic, and \\nwhen you are unable to create a PDF using PDFMaker or the Print \\nCommand from the applicat ion you are using.   \\n \\nSignature Pages If you have a document such as a CV that requires a signature on a page only print the page that re quires the signature –printing the \\nentire document and scanning it is not\\n necessary or desired.  Once you \\nsign and scan the signature page you can combine it with the original \\ndocument using the Create PDF From Multiple Files feature. \\n Scanner Settings Before scanning documents rememb er to make certain that the \\nfollowing settings are activated on your scanner (settings may vary): \\x83 Document Mode \\n\\x83 Scan to smallest size \\n\\x83 Fast (lowest quality) \\n\\x83 Grayscale or black and white  \\n\\x83 Resolution: 300dpi or less', metadata={'source': 'data.pdf', 'page': 0}),\n",
       " Document(page_content='Page 2 of 4 Creating PDF Documents \\n \\n \\nOption 1 – Use Adobe PDF Printer Command: \\nIn many authoring applications, yo u can use the Print command with \\nthe Adobe PDF printer to convert your file to PDF.   Create a PDF using the Print command (Windows) \\n1. Open the file in its authoring a pplication, and choose File > Print. \\n2. Choose Adobe PDF from the printer menu. \\n \\n \\n \\n3. Click the Properties (or Preferen ces) button to customize the Adobe \\nPDF printer setting. (In some app lications, you may need to click \\nSetup in the Print dialog box to open  the list of printers, and then click \\nProperties or Preferences.)  Choose Sm allest File Size as your default \\nsetting. \\n \\n \\n \\n4. In the Print dialog box, click OK and Save your file. \\n \\n \\n \\nCreate a PDF using the Print command (Mac OS) \\n1. Open the file in its authoring a pplication, and choose File > Print. \\n2. Click on the PDF button in the Print window. 3. Click Save as PDF.', metadata={'source': 'data.pdf', 'page': 1}),\n",
       " Document(page_content='Page 3 of 4 Creating PDF Documents (continued) \\n \\nOption 2: If you do not have  Acrobat Standard or higher \\ninstalled use PS2PSF.*   \\n    \\n 1. Open the file in its authoring app lication, and choose File > Print. \\n2. Select “Print to File” and save. \\n3. Open your browser and go to http://ps2pdf.com/convert.htm\\n \\n4. Click “browse” select the file you created in step 2 (.prn or .ps), \\nclick “convert” \\n5. Download the newly created PDF file. \\n*Note: Some formatting changes ma y occur once converted (bullets \\nmay turn to symbols and color may become black and white).', metadata={'source': 'data.pdf', 'page': 2}),\n",
       " Document(page_content='Page 4 of 4 Reducing File Size Options \\n \\n*WebDCU will accept files up to 2.0MB.* \\n Here is a rough estimate for PDF file sizes: If the contents are pure text, like a CV, the file size is usually 10kb per \\npage; therefore, a 1MB file will ha ve about 100 pages.  If the file \\nincludes some pictures, the file size may increase. If the file is a \\npicture, like a scanned license or ce rtification, you may have different \\nfile sizes based on the picture quality.  In most cases, saving the file at \\nabout 250kb per page should be enough to generate a clear picture.  Option 1 – Use Adobe PDF Print Command: 1. Open the PDF file, and choose File > Print. 2. Choose Adobe PDF from the printer menu next to Name. 3. Click the Properties (or Preferen ces) button to customize the Adobe \\nPDF printer setting. (In some app lications, you may need to click \\nSetup in the Print dialog box to open  the list of printers, and then click \\nProperties or Preferences.)  Choose Sm allest File Size as your default \\nsetting. 4. In the Print dialog box, click OK.   5. Save the new (smaller) PDF file. \\n \\n \\nOption 2 – Use Adobe PDF “Reduce File Size”: 1. Open the file in Adobe Acrobat and choose File > Reduce File Size...  2. For our purposes, please make th ese files \"compatible with\" version \\nAcrobat 5.0 or later. 3. Save the new (smaller) PDF file.', metadata={'source': 'data.pdf', 'page': 3})]"
      ]
     },
     "execution_count": 76,
     "metadata": {},
     "output_type": "execute_result"
    }
   ],
   "source": [
    "from langchain_community.document_loaders import PyPDFLoader\n",
    "\n",
    "loader = PyPDFLoader(\"data.pdf\")\n",
    "pdf_doc = loader.load_and_split()\n",
    "pdf_doc"
   ]
  },
  {
   "cell_type": "code",
   "execution_count": 77,
   "metadata": {},
   "outputs": [
    {
     "data": {
      "text/plain": [
       "4"
      ]
     },
     "execution_count": 77,
     "metadata": {},
     "output_type": "execute_result"
    }
   ],
   "source": [
    "len(pdf_doc)"
   ]
  },
  {
   "cell_type": "code",
   "execution_count": 78,
   "metadata": {},
   "outputs": [
    {
     "data": {
      "text/plain": [
       "Document(page_content='Page 1 of 4 PDF Files \\nScan – Create – Reduce File Size  \\n \\n \\nIt is recommended that you purchase an Adobe Acrobat product that \\nallows you to read, create and manipulate PDF documents.  Go to http://www.adobe.com/products/acrobat/matrix.html\\n to compare \\nAdobe products and features –Adobe  Acrobat Standard is sufficient. \\n \\n \\nScanning Documents \\n \\nYou should only have to scan docu ments that are not electronic, and \\nwhen you are unable to create a PDF using PDFMaker or the Print \\nCommand from the applicat ion you are using.   \\n \\nSignature Pages If you have a document such as a CV that requires a signature on a page only print the page that re quires the signature –printing the \\nentire document and scanning it is not\\n necessary or desired.  Once you \\nsign and scan the signature page you can combine it with the original \\ndocument using the Create PDF From Multiple Files feature. \\n Scanner Settings Before scanning documents rememb er to make certain that the \\nfollowing settings are activated on your scanner (settings may vary): \\x83 Document Mode \\n\\x83 Scan to smallest size \\n\\x83 Fast (lowest quality) \\n\\x83 Grayscale or black and white  \\n\\x83 Resolution: 300dpi or less', metadata={'source': 'data.pdf', 'page': 0})"
      ]
     },
     "execution_count": 78,
     "metadata": {},
     "output_type": "execute_result"
    }
   ],
   "source": [
    "pdf_doc[0]"
   ]
  },
  {
   "cell_type": "code",
   "execution_count": 79,
   "metadata": {},
   "outputs": [],
   "source": [
    "import textwrap\n",
    "\n",
    "def wrap_text_preserve_newlines(text,width=110):\n",
    "    #Split the input text into lines based on newline characters\n",
    "    lines = text.split('\\n')\n",
    "\n",
    "    #Wrap each line individually\n",
    "    wrapped_lines = [textwrap.fill(line,width=width) for line in lines]\n",
    "\n",
    "    #Join the wrapped lines back together using newline characters\n",
    "    wrapped_text = '\\n'.join(wrapped_lines)\n",
    "    return wrapped_text"
   ]
  },
  {
   "cell_type": "code",
   "execution_count": 80,
   "metadata": {},
   "outputs": [
    {
     "name": "stdout",
     "output_type": "stream",
     "text": [
      "page_content='Page 1 of 4 PDF Files \\nScan – Create – Reduce File Size  \\n \\n \\nIt is recommended that you\n",
      "purchase an Adobe Acrobat product that \\nallows you to read, create and manipulate PDF documents.  Go to\n",
      "http://www.adobe.com/products/acrobat/matrix.html\\n to compare \\nAdobe products and features –Adobe  Acrobat\n",
      "Standard is sufficient. \\n \\n \\nScanning Documents \\n \\nYou should only have to scan docu ments that are not\n",
      "electronic, and \\nwhen you are unable to create a PDF using PDFMaker or the Print \\nCommand from the applicat\n",
      "ion you are using.   \\n \\nSignature Pages If you have a document such as a CV that requires a signature on a\n",
      "page only print the page that re quires the signature –printing the \\nentire document and scanning it is not\\n\n",
      "necessary or desired.  Once you \\nsign and scan the signature page you can combine it with the original\n",
      "\\ndocument using the Create PDF From Multiple Files feature. \\n Scanner Settings Before scanning documents\n",
      "rememb er to make certain that the \\nfollowing settings are activated on your scanner (settings may vary):\n",
      "\\x83 Document Mode \\n\\x83 Scan to smallest size \\n\\x83 Fast (lowest quality) \\n\\x83 Grayscale or black and\n",
      "white  \\n\\x83 Resolution: 300dpi or less' metadata={'source': 'data.pdf', 'page': 0}\n"
     ]
    }
   ],
   "source": [
    "print(wrap_text_preserve_newlines(str(pdf_doc[0])))"
   ]
  },
  {
   "cell_type": "code",
   "execution_count": 81,
   "metadata": {},
   "outputs": [
    {
     "name": "stdout",
     "output_type": "stream",
     "text": [
      "page_content='Page 1 of 4 PDF Files \\nScan – Create – Reduce File Size  \\n \\n \\nIt is recommended that you\n",
      "purchase an Adobe Acrobat product that \\nallows you to read, create and manipulate PDF documents.  Go to\n",
      "http://www.adobe.com/products/acrobat/matrix.html\\n to compare \\nAdobe products and features –Adobe  Acrobat\n",
      "Standard is sufficient. \\n \\n \\nScanning Documents \\n \\nYou should only have to scan docu ments that are not\n",
      "electronic, and \\nwhen you are unable to create a PDF using PDFMaker or the Print \\nCommand from the applicat\n",
      "ion you are using.   \\n \\nSignature Pages If you have a document such as a CV that requires a signature on a\n",
      "page only print the page that re quires the signature –printing the \\nentire document and scanning it is not\\n\n",
      "necessary or desired.  Once you \\nsign and scan the signature page you can combine it with the original\n",
      "\\ndocument using the Create PDF From Multiple Files feature. \\n Scanner Settings Before scanning documents\n",
      "rememb er to make certain that the \\nfollowing settings are activated on your scanner (settings may vary):\n",
      "\\x83 Document Mode \\n\\x83 Scan to smallest size \\n\\x83 Fast (lowest quality) \\n\\x83 Grayscale or black and\n",
      "white  \\n\\x83 Resolution: 300dpi or less' metadata={'source': 'data.pdf', 'page': 0}\n",
      "page_content='Page 2 of 4 Creating PDF Documents \\n \\n \\nOption 1 – Use Adobe PDF Printer Command: \\nIn many\n",
      "authoring applications, yo u can use the Print command with \\nthe Adobe PDF printer to convert your file to\n",
      "PDF.   Create a PDF using the Print command (Windows) \\n1. Open the file in its authoring a pplication, and\n",
      "choose File > Print. \\n2. Choose Adobe PDF from the printer menu. \\n \\n \\n \\n3. Click the Properties (or\n",
      "Preferen ces) button to customize the Adobe \\nPDF printer setting. (In some app lications, you may need to\n",
      "click \\nSetup in the Print dialog box to open  the list of printers, and then click \\nProperties or\n",
      "Preferences.)  Choose Sm allest File Size as your default \\nsetting. \\n \\n \\n \\n4. In the Print dialog box,\n",
      "click OK and Save your file. \\n \\n \\n \\nCreate a PDF using the Print command (Mac OS) \\n1. Open the file in\n",
      "its authoring a pplication, and choose File > Print. \\n2. Click on the PDF button in the Print window. 3.\n",
      "Click Save as PDF.' metadata={'source': 'data.pdf', 'page': 1}\n",
      "page_content='Page 3 of 4 Creating PDF Documents (continued) \\n \\nOption 2: If you do not have  Acrobat\n",
      "Standard or higher \\ninstalled use PS2PSF.*   \\n    \\n 1. Open the file in its authoring app lication, and\n",
      "choose File > Print. \\n2. Select “Print to File” and save. \\n3. Open your browser and go to\n",
      "http://ps2pdf.com/convert.htm\\n \\n4. Click “browse” select the file you created in step 2 (.prn or .ps),\n",
      "\\nclick “convert” \\n5. Download the newly created PDF file. \\n*Note: Some formatting changes ma y occur once\n",
      "converted (bullets \\nmay turn to symbols and color may become black and white).' metadata={'source':\n",
      "'data.pdf', 'page': 2}\n",
      "page_content='Page 4 of 4 Reducing File Size Options \\n \\n*WebDCU will accept files up to 2.0MB.* \\n Here is a\n",
      "rough estimate for PDF file sizes: If the contents are pure text, like a CV, the file size is usually 10kb per\n",
      "\\npage; therefore, a 1MB file will ha ve about 100 pages.  If the file \\nincludes some pictures, the file size\n",
      "may increase. If the file is a \\npicture, like a scanned license or ce rtification, you may have different\n",
      "\\nfile sizes based on the picture quality.  In most cases, saving the file at \\nabout 250kb per page should be\n",
      "enough to generate a clear picture.  Option 1 – Use Adobe PDF Print Command: 1. Open the PDF file, and choose\n",
      "File > Print. 2. Choose Adobe PDF from the printer menu next to Name. 3. Click the Properties (or Preferen\n",
      "ces) button to customize the Adobe \\nPDF printer setting. (In some app lications, you may need to click\n",
      "\\nSetup in the Print dialog box to open  the list of printers, and then click \\nProperties or Preferences.)\n",
      "Choose Sm allest File Size as your default \\nsetting. 4. In the Print dialog box, click OK.   5. Save the new\n",
      "(smaller) PDF file. \\n \\n \\nOption 2 – Use Adobe PDF “Reduce File Size”: 1. Open the file in Adobe Acrobat and\n",
      "choose File > Reduce File Size...  2. For our purposes, please make th ese files \"compatible with\" version\n",
      "\\nAcrobat 5.0 or later. 3. Save the new (smaller) PDF file.' metadata={'source': 'data.pdf', 'page': 3}\n"
     ]
    }
   ],
   "source": [
    "def preprocess_pages(pages, width=110):\n",
    "    # Initialize an empty list to store preprocessed texts for all pages\n",
    "    preprocessed_texts = []\n",
    "\n",
    "    # Iterate over each item in the pages list\n",
    "    for i in range(len(pages)):\n",
    "        # Access the text for the current page using the index i\n",
    "        \n",
    "        preprocessed_text = wrap_text_preserve_newlines(str(pages[i]), width=width)\n",
    "        \n",
    "        # Append the preprocessed text to the list\n",
    "        preprocessed_texts.append(preprocessed_text)\n",
    "\n",
    "    # Join the preprocessed texts for all pages into a single text\n",
    "    joined_text = '\\n'.join(preprocessed_texts)\n",
    "    return joined_text\n",
    "\n",
    "preprocessed_doc = preprocess_pages(pdf_doc)\n",
    "print(preprocessed_doc)"
   ]
  },
  {
   "cell_type": "code",
   "execution_count": 82,
   "metadata": {},
   "outputs": [
    {
     "name": "stdout",
     "output_type": "stream",
     "text": [
      "[Document(page_content='Page 1 of 4 PDF Files \\nScan – Create – Reduce File Size  \\n \\n \\nIt is recommended that you purchase an Adobe Acrobat product that \\nallows you to read, create and manipulate PDF documents.  Go to http://www.adobe.com/products/acrobat/matrix.html\\n to compare \\nAdobe products and features –Adobe  Acrobat Standard is sufficient. \\n \\n \\nScanning Documents \\n \\nYou should only have to scan docu ments that are not electronic, and \\nwhen you are unable to create a PDF using PDFMaker or the Print \\nCommand from the applicat ion you are using.   \\n \\nSignature Pages If you have a document such as a CV that requires a signature on a page only print the page that re quires the signature –printing the \\nentire document and scanning it is not\\n necessary or desired.  Once you \\nsign and scan the signature page you can combine it with the original \\ndocument using the Create PDF From Multiple Files feature. \\n Scanner Settings Before scanning documents rememb er to make certain that the', metadata={'source': 'data.pdf', 'page': 0}), Document(page_content='document using the Create PDF From Multiple Files feature. \\n Scanner Settings Before scanning documents rememb er to make certain that the \\nfollowing settings are activated on your scanner (settings may vary): \\x83 Document Mode \\n\\x83 Scan to smallest size \\n\\x83 Fast (lowest quality) \\n\\x83 Grayscale or black and white  \\n\\x83 Resolution: 300dpi or less', metadata={'source': 'data.pdf', 'page': 0}), Document(page_content='Page 2 of 4 Creating PDF Documents \\n \\n \\nOption 1 – Use Adobe PDF Printer Command: \\nIn many authoring applications, yo u can use the Print command with \\nthe Adobe PDF printer to convert your file to PDF.   Create a PDF using the Print command (Windows) \\n1. Open the file in its authoring a pplication, and choose File > Print. \\n2. Choose Adobe PDF from the printer menu. \\n \\n \\n \\n3. Click the Properties (or Preferen ces) button to customize the Adobe \\nPDF printer setting. (In some app lications, you may need to click \\nSetup in the Print dialog box to open  the list of printers, and then click \\nProperties or Preferences.)  Choose Sm allest File Size as your default \\nsetting. \\n \\n \\n \\n4. In the Print dialog box, click OK and Save your file. \\n \\n \\n \\nCreate a PDF using the Print command (Mac OS) \\n1. Open the file in its authoring a pplication, and choose File > Print. \\n2. Click on the PDF button in the Print window. 3. Click Save as PDF.', metadata={'source': 'data.pdf', 'page': 1}), Document(page_content='Page 3 of 4 Creating PDF Documents (continued) \\n \\nOption 2: If you do not have  Acrobat Standard or higher \\ninstalled use PS2PSF.*   \\n    \\n 1. Open the file in its authoring app lication, and choose File > Print. \\n2. Select “Print to File” and save. \\n3. Open your browser and go to http://ps2pdf.com/convert.htm\\n \\n4. Click “browse” select the file you created in step 2 (.prn or .ps), \\nclick “convert” \\n5. Download the newly created PDF file. \\n*Note: Some formatting changes ma y occur once converted (bullets \\nmay turn to symbols and color may become black and white).', metadata={'source': 'data.pdf', 'page': 2}), Document(page_content='Page 4 of 4 Reducing File Size Options \\n \\n*WebDCU will accept files up to 2.0MB.* \\n Here is a rough estimate for PDF file sizes: If the contents are pure text, like a CV, the file size is usually 10kb per \\npage; therefore, a 1MB file will ha ve about 100 pages.  If the file \\nincludes some pictures, the file size may increase. If the file is a \\npicture, like a scanned license or ce rtification, you may have different \\nfile sizes based on the picture quality.  In most cases, saving the file at \\nabout 250kb per page should be enough to generate a clear picture.  Option 1 – Use Adobe PDF Print Command: 1. Open the PDF file, and choose File > Print. 2. Choose Adobe PDF from the printer menu next to Name. 3. Click the Properties (or Preferen ces) button to customize the Adobe \\nPDF printer setting. (In some app lications, you may need to click \\nSetup in the Print dialog box to open  the list of printers, and then click \\nProperties or Preferences.)  Choose Sm allest File Size as your default', metadata={'source': 'data.pdf', 'page': 3}), Document(page_content='Setup in the Print dialog box to open  the list of printers, and then click \\nProperties or Preferences.)  Choose Sm allest File Size as your default \\nsetting. 4. In the Print dialog box, click OK.   5. Save the new (smaller) PDF file. \\n \\n \\nOption 2 – Use Adobe PDF “Reduce File Size”: 1. Open the file in Adobe Acrobat and choose File > Reduce File Size...  2. For our purposes, please make th ese files \"compatible with\" version \\nAcrobat 5.0 or later. 3. Save the new (smaller) PDF file.', metadata={'source': 'data.pdf', 'page': 3})]\n",
      "6\n"
     ]
    }
   ],
   "source": [
    "#Text splitting in chunks\n",
    "from langchain.text_splitter import RecursiveCharacterTextSplitter\n",
    "\n",
    "text_splitter = RecursiveCharacterTextSplitter(chunk_size=1000,chunk_overlap=200)\n",
    "\n",
    "splitted_text = text_splitter.split_documents(pdf_doc)\n",
    "\n",
    "print(splitted_text)\n",
    "print(len(splitted_text))"
   ]
  },
  {
   "cell_type": "code",
   "execution_count": 83,
   "metadata": {},
   "outputs": [],
   "source": [
    "import os\n",
    "from dotenv import load_dotenv\n",
    "\n",
    "load_dotenv()\n",
    "\n",
    "huggingfacehub_api_token = os.getenv(\"HUGGINGFACEHUB_API_TOKEN\")"
   ]
  },
  {
   "cell_type": "code",
   "execution_count": 84,
   "metadata": {},
   "outputs": [],
   "source": [
    "#Embedding\n",
    "from langchain.embeddings import HuggingFaceEmbeddings\n",
    "from langchain.vectorstores import FAISS\n"
   ]
  },
  {
   "cell_type": "markdown",
   "metadata": {},
   "source": [
    "Problem faced: https://learn.microsoft.com/en-us/windows/win32/fileio/maximum-file-path-limitation?tabs=powershell#enable-long-paths-in-windows-10-version-1607-and-later\n",
    "\n",
    "Python version downgrade from 3.12 to 3.11"
   ]
  },
  {
   "cell_type": "code",
   "execution_count": 16,
   "metadata": {},
   "outputs": [
    {
     "name": "stderr",
     "output_type": "stream",
     "text": [
      "C:\\Users\\srija\\AppData\\Local\\Packages\\PythonSoftwareFoundation.Python.3.11_qbz5n2kfra8p0\\LocalCache\\local-packages\\Python311\\site-packages\\tqdm\\auto.py:21: TqdmWarning: IProgress not found. Please update jupyter and ipywidgets. See https://ipywidgets.readthedocs.io/en/stable/user_install.html\n",
      "  from .autonotebook import tqdm as notebook_tqdm\n",
      "modules.json: 100%|██████████| 349/349 [00:00<00:00, 119kB/s]\n",
      "C:\\Users\\srija\\AppData\\Local\\Packages\\PythonSoftwareFoundation.Python.3.11_qbz5n2kfra8p0\\LocalCache\\local-packages\\Python311\\site-packages\\huggingface_hub\\file_download.py:149: UserWarning: `huggingface_hub` cache-system uses symlinks by default to efficiently store duplicated files but your machine does not support them in C:\\Users\\srija\\.cache\\huggingface\\hub\\models--sentence-transformers--all-mpnet-base-v2. Caching files will still work but in a degraded version that might require more space on your disk. This warning can be disabled by setting the `HF_HUB_DISABLE_SYMLINKS_WARNING` environment variable. For more details, see https://huggingface.co/docs/huggingface_hub/how-to-cache#limitations.\n",
      "To support symlinks on Windows, you either need to activate Developer Mode or to run Python as an administrator. In order to see activate developer mode, see this article: https://docs.microsoft.com/en-us/windows/apps/get-started/enable-your-device-for-development\n",
      "  warnings.warn(message)\n",
      "config_sentence_transformers.json: 100%|██████████| 116/116 [00:00<?, ?B/s] \n",
      "README.md: 100%|██████████| 10.6k/10.6k [00:00<?, ?B/s]\n",
      "sentence_bert_config.json: 100%|██████████| 53.0/53.0 [00:00<?, ?B/s]\n",
      "config.json: 100%|██████████| 571/571 [00:00<?, ?B/s] \n",
      "pytorch_model.bin: 100%|██████████| 438M/438M [01:14<00:00, 5.90MB/s] \n",
      "tokenizer_config.json: 100%|██████████| 363/363 [00:00<00:00, 121kB/s]\n",
      "vocab.txt: 100%|██████████| 232k/232k [00:00<00:00, 578kB/s]\n",
      "tokenizer.json: 100%|██████████| 466k/466k [00:00<00:00, 732kB/s]\n",
      "special_tokens_map.json: 100%|██████████| 239/239 [00:00<?, ?B/s] \n",
      "1_Pooling/config.json: 100%|██████████| 190/190 [00:00<00:00, 126kB/s]\n"
     ]
    }
   ],
   "source": [
    "embeddings = HuggingFaceEmbeddings()"
   ]
  },
  {
   "cell_type": "markdown",
   "metadata": {},
   "source": [
    "Passing splitted text chunk instead of entire docs"
   ]
  },
  {
   "cell_type": "code",
   "execution_count": 107,
   "metadata": {},
   "outputs": [],
   "source": [
    "db_doc = FAISS.from_documents(splitted_text,embeddings)"
   ]
  },
  {
   "cell_type": "code",
   "execution_count": 108,
   "metadata": {},
   "outputs": [],
   "source": [
    "query = 'What are reducing file size options?'\n",
    "\n",
    "response_doc = db_doc.similarity_search(query)"
   ]
  },
  {
   "cell_type": "code",
   "execution_count": 109,
   "metadata": {},
   "outputs": [
    {
     "name": "stdout",
     "output_type": "stream",
     "text": [
      "[Document(page_content='Setup in the Print dialog box to open  the list of printers, and then click \\nProperties or Preferences.)  Choose Sm allest File Size as your default \\nsetting. 4. In the Print dialog box, click OK.   5. Save the new (smaller) PDF file. \\n \\n \\nOption 2 – Use Adobe PDF “Reduce File Size”: 1. Open the file in Adobe Acrobat and choose File > Reduce File Size...  2. For our purposes, please make th ese files \"compatible with\" version \\nAcrobat 5.0 or later. 3. Save the new (smaller) PDF file.', metadata={'source': 'data.pdf', 'page': 3}), Document(page_content='Page 4 of 4 Reducing File Size Options \\n \\n*WebDCU will accept files up to 2.0MB.* \\n Here is a rough estimate for PDF file sizes: If the contents are pure text, like a CV, the file size is usually 10kb per \\npage; therefore, a 1MB file will ha ve about 100 pages.  If the file \\nincludes some pictures, the file size may increase. If the file is a \\npicture, like a scanned license or ce rtification, you may have different \\nfile sizes based on the picture quality.  In most cases, saving the file at \\nabout 250kb per page should be enough to generate a clear picture.  Option 1 – Use Adobe PDF Print Command: 1. Open the PDF file, and choose File > Print. 2. Choose Adobe PDF from the printer menu next to Name. 3. Click the Properties (or Preferen ces) button to customize the Adobe \\nPDF printer setting. (In some app lications, you may need to click \\nSetup in the Print dialog box to open  the list of printers, and then click \\nProperties or Preferences.)  Choose Sm allest File Size as your default', metadata={'source': 'data.pdf', 'page': 3}), Document(page_content='document using the Create PDF From Multiple Files feature. \\n Scanner Settings Before scanning documents rememb er to make certain that the \\nfollowing settings are activated on your scanner (settings may vary): \\x83 Document Mode \\n\\x83 Scan to smallest size \\n\\x83 Fast (lowest quality) \\n\\x83 Grayscale or black and white  \\n\\x83 Resolution: 300dpi or less', metadata={'source': 'data.pdf', 'page': 0}), Document(page_content='Page 2 of 4 Creating PDF Documents \\n \\n \\nOption 1 – Use Adobe PDF Printer Command: \\nIn many authoring applications, yo u can use the Print command with \\nthe Adobe PDF printer to convert your file to PDF.   Create a PDF using the Print command (Windows) \\n1. Open the file in its authoring a pplication, and choose File > Print. \\n2. Choose Adobe PDF from the printer menu. \\n \\n \\n \\n3. Click the Properties (or Preferen ces) button to customize the Adobe \\nPDF printer setting. (In some app lications, you may need to click \\nSetup in the Print dialog box to open  the list of printers, and then click \\nProperties or Preferences.)  Choose Sm allest File Size as your default \\nsetting. \\n \\n \\n \\n4. In the Print dialog box, click OK and Save your file. \\n \\n \\n \\nCreate a PDF using the Print command (Mac OS) \\n1. Open the file in its authoring a pplication, and choose File > Print. \\n2. Click on the PDF button in the Print window. 3. Click Save as PDF.', metadata={'source': 'data.pdf', 'page': 1})]\n"
     ]
    }
   ],
   "source": [
    "print(response_doc)"
   ]
  },
  {
   "cell_type": "code",
   "execution_count": 110,
   "metadata": {},
   "outputs": [
    {
     "name": "stdout",
     "output_type": "stream",
     "text": [
      "Setup in the Print dialog box to open  the list of printers, and then click\n",
      "Properties or Preferences.)  Choose Sm allest File Size as your default\n",
      "setting. 4. In the Print dialog box, click OK.   5. Save the new (smaller) PDF file.\n",
      "\n",
      "\n",
      "Option 2 – Use Adobe PDF “Reduce File Size”: 1. Open the file in Adobe Acrobat and choose File > Reduce File\n",
      "Size...  2. For our purposes, please make th ese files \"compatible with\" version\n",
      "Acrobat 5.0 or later. 3. Save the new (smaller) PDF file.\n"
     ]
    }
   ],
   "source": [
    "print(wrap_text_preserve_newlines(str(response_doc[0].page_content)))"
   ]
  },
  {
   "cell_type": "markdown",
   "metadata": {},
   "source": [
    "### QA Chain"
   ]
  },
  {
   "cell_type": "code",
   "execution_count": 111,
   "metadata": {},
   "outputs": [],
   "source": [
    "from langchain.chains.question_answering import load_qa_chain\n",
    "from langchain import HuggingFaceHub"
   ]
  },
  {
   "cell_type": "code",
   "execution_count": 112,
   "metadata": {},
   "outputs": [],
   "source": [
    "llm = HuggingFaceHub(\n",
    "    repo_id = \"google/flan-t5-xxl\",\n",
    "    model_kwargs={\"temperature\":0.8,\"max_length\":512}\n",
    ")"
   ]
  },
  {
   "cell_type": "code",
   "execution_count": 113,
   "metadata": {},
   "outputs": [],
   "source": [
    "chain = load_qa_chain(llm,chain_type=\"stuff\")"
   ]
  },
  {
   "cell_type": "code",
   "execution_count": 116,
   "metadata": {},
   "outputs": [],
   "source": [
    "query_text = \"what's scanner resolution?\"\n",
    "qa_result_doc = db_doc.similarity_search(query_text)"
   ]
  },
  {
   "cell_type": "markdown",
   "metadata": {},
   "source": [
    "HfHubHTTPError: 422 Client Error: Unprocessable Entity for url: https://api-inference.huggingface.co/models/google/flan-t5-xxl (Request ID: PlmQs7Y_0GmH6n4fxulEm)\n",
    "\n",
    "Input validation error: `inputs` tokens + `max_new_tokens` must be <= 2048. Given: 2268 `inputs` tokens and 100 `max_new_tokens`\n",
    "Make sure 'text2text-generation' task is supported by the model."
   ]
  },
  {
   "cell_type": "code",
   "execution_count": 117,
   "metadata": {},
   "outputs": [
    {
     "data": {
      "text/plain": [
       "'Resolution: 300dpi or less'"
      ]
     },
     "execution_count": 117,
     "metadata": {},
     "output_type": "execute_result"
    }
   ],
   "source": [
    "chain.run(input_documents = qa_result_doc, question = query_text)"
   ]
  },
  {
   "cell_type": "code",
   "execution_count": null,
   "metadata": {},
   "outputs": [],
   "source": []
  }
 ],
 "metadata": {
  "kernelspec": {
   "display_name": "Python 3",
   "language": "python",
   "name": "python3"
  },
  "language_info": {
   "codemirror_mode": {
    "name": "ipython",
    "version": 3
   },
   "file_extension": ".py",
   "mimetype": "text/x-python",
   "name": "python",
   "nbconvert_exporter": "python",
   "pygments_lexer": "ipython3",
   "version": "3.11.8"
  }
 },
 "nbformat": 4,
 "nbformat_minor": 2
}
